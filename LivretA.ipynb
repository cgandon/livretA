{
 "cells": [
  {
   "cell_type": "code",
   "execution_count": 6,
   "metadata": {},
   "outputs": [
    {
     "name": "stdout",
     "output_type": "stream",
     "text": [
      "Entrez un capital à investir:1000\n",
      "Entrez un taux d'intérêt:10\n",
      "le taux doit être exprimé en décimal, par ex 0.1 pour 10%\n",
      "Entrez un capital à investir:1000\n",
      "Entrez un taux d'intérêt:.0075\n",
      "Entre une durée de placement souhaitée:12\n",
      "Le capital final sera de 1093.81 euro\n"
     ]
    }
   ],
   "source": [
    "def validate(x,y):\n",
    "    # x = valeur à tester\n",
    "    # y = type de valeur (t pour taux, m pour montant, a pour années)\n",
    "    try:\n",
    "        float(x)\n",
    "    except:\n",
    "        print(\"Attention ceci n'est pas une valeur\")\n",
    "        return False\n",
    "    else:\n",
    "        if float(x) < 0:\n",
    "            print(\"Entrez une valuer positive\")\n",
    "            return False\n",
    "        if y == \"t\":\n",
    "            if float(x) > 1:\n",
    "                print(\"le taux doit être exprimé en décimal, par ex 0.1 pour 10%\")\n",
    "                return False\n",
    "    return True\n",
    "    \n",
    "def interet():\n",
    "    a = input(\"Entrez un capital à investir:\")\n",
    "    if validate(a,\"m\") == True:\n",
    "        a = float(a)\n",
    "        b = input(\"Entrez un taux d'intérêt:\")\n",
    "        if validate(b,\"t\") == True:\n",
    "            b = float(b)\n",
    "            c = input(\"Entre une durée de placement souhaitée:\")\n",
    "            if validate(c,\"a\") == True:\n",
    "                c = int(c)\n",
    "                k = a*(1+b)**c\n",
    "                print(\"Le capital final sera de {:.2f} euro\".format(k))\n",
    "            else:\n",
    "                interet()\n",
    "        else:\n",
    "            interet()\n",
    "    else:\n",
    "        interet()\n",
    "            \n",
    "interet()"
   ]
  },
  {
   "cell_type": "code",
   "execution_count": null,
   "metadata": {},
   "outputs": [],
   "source": []
  },
  {
   "cell_type": "code",
   "execution_count": null,
   "metadata": {},
   "outputs": [],
   "source": []
  }
 ],
 "metadata": {
  "kernelspec": {
   "display_name": "Python 3",
   "language": "python",
   "name": "python3"
  },
  "language_info": {
   "codemirror_mode": {
    "name": "ipython",
    "version": 3
   },
   "file_extension": ".py",
   "mimetype": "text/x-python",
   "name": "python",
   "nbconvert_exporter": "python",
   "pygments_lexer": "ipython3",
   "version": "3.7.1"
  }
 },
 "nbformat": 4,
 "nbformat_minor": 2
}
