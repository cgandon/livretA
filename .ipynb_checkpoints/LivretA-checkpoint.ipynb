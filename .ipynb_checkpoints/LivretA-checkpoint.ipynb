{
 "cells": [
  {
   "cell_type": "code",
   "execution_count": null,
   "metadata": {},
   "outputs": [],
   "source": [
    "def validate(x,y)\n",
    "    # x = valeur à tester\n",
    "    # y = type de valeur (t pour taux, m pour montant, a pour années)\n",
    "    try\n",
    "        int(x)\n",
    "    except\n",
    "        print(\"Attention ceci n'est pas une valeur\")\n",
    "        return False\n",
    "    else:\n",
    "        if x < 0:\n",
    "            print(\"Entrez une valuer positive\")\n",
    "            return False\n",
    "        if y = \"t\":\n",
    "            if x > 1\n",
    "    return True\n",
    "    \n",
    "def interet()\n",
    "    a = input(\"Entrez un capital à investir:\")\n",
    "    if validate(a,\"m\") = True:\n",
    "        b = input(\"Entrez un taux d'intérêt:\")\n",
    "        if validate(b,\"t\") = True:\n",
    "            c = input(\"Entre une durée de placement souhaitée:\")\n",
    "                if validate(c,\"a\"):\n",
    "                k = m(1+t)**a\n",
    "                print(\"Le capital final sera de:\")\n",
    "                return k\n",
    "            \n"
   ]
  }
 ],
 "metadata": {
  "kernelspec": {
   "display_name": "Python 3",
   "language": "python",
   "name": "python3"
  },
  "language_info": {
   "codemirror_mode": {
    "name": "ipython",
    "version": 3
   },
   "file_extension": ".py",
   "mimetype": "text/x-python",
   "name": "python",
   "nbconvert_exporter": "python",
   "pygments_lexer": "ipython3",
   "version": "3.7.1"
  }
 },
 "nbformat": 4,
 "nbformat_minor": 2
}
